{
  "metadata": {
    "language_info": {
      "codemirror_mode": {
        "name": "python",
        "version": 3
      },
      "file_extension": ".py",
      "mimetype": "text/x-python",
      "name": "python",
      "nbconvert_exporter": "python",
      "pygments_lexer": "ipython3",
      "version": "3.8"
    },
    "kernelspec": {
      "name": "python",
      "display_name": "Python (Pyodide)",
      "language": "python"
    }
  },
  "nbformat_minor": 4,
  "nbformat": 4,
  "cells": [
    {
      "cell_type": "code",
      "source": "print('hello')",
      "metadata": {
        "trusted": true
      },
      "execution_count": 1,
      "outputs": [
        {
          "name": "stdout",
          "text": "hello\n",
          "output_type": "stream"
        }
      ]
    },
    {
      "cell_type": "code",
      "source": "mylist=[]\nprint(mylist)",
      "metadata": {
        "trusted": true
      },
      "execution_count": 2,
      "outputs": [
        {
          "name": "stdout",
          "text": "[]\n",
          "output_type": "stream"
        }
      ]
    },
    {
      "cell_type": "code",
      "source": "mylist1=['ran',19,19.4,'abi']\nprint(mylist1)\nprint(len(mylist1))\nprint(type(mylist1))",
      "metadata": {
        "trusted": true
      },
      "execution_count": 3,
      "outputs": [
        {
          "name": "stdout",
          "text": "['ran', 19, 19.4, 'abi']\n4\n<class 'list'>\n",
          "output_type": "stream"
        }
      ]
    },
    {
      "cell_type": "code",
      "source": "mylist1=['ran',19,19.4,'abi']\nlist2=mylist1\nprint(mylist1)\nprint(len(mylist1),len(list2))\nprint(type(mylist1))\nprint(list2[2])",
      "metadata": {
        "trusted": true
      },
      "execution_count": 4,
      "outputs": [
        {
          "name": "stdout",
          "text": "['ran', 19, 19.4, 'abi']\n4 4\n<class 'list'>\n19.4\n",
          "output_type": "stream"
        }
      ]
    },
    {
      "cell_type": "code",
      "source": "mylit=['abi','ran','san']\nmylit.append('ela')\nprint(mylit)\nmylit[1:3]",
      "metadata": {
        "trusted": true
      },
      "execution_count": 5,
      "outputs": [
        {
          "name": "stdout",
          "text": "['abi', 'ran', 'san', 'ela']\n",
          "output_type": "stream"
        },
        {
          "execution_count": 5,
          "output_type": "execute_result",
          "data": {
            "text/plain": "['ran', 'san']"
          },
          "metadata": {}
        }
      ]
    },
    {
      "cell_type": "code",
      "source": "mylit.insert(2,'jaya')\nprint(mylit)",
      "metadata": {
        "trusted": true
      },
      "execution_count": 6,
      "outputs": [
        {
          "name": "stdout",
          "text": "['abi', 'ran', 'jaya', 'san', 'ela']\n",
          "output_type": "stream"
        }
      ]
    },
    {
      "cell_type": "code",
      "source": "fname=['ela','ram','sai','abi']\nlname=['varasan','an','nath','jit']\nname=fname+lname\nprint(name)",
      "metadata": {
        "trusted": true
      },
      "execution_count": 7,
      "outputs": [
        {
          "name": "stdout",
          "text": "['ela', 'ram', 'sai', 'abi', 'varasan', 'an', 'nath', 'jit']\n",
          "output_type": "stream"
        }
      ]
    },
    {
      "cell_type": "code",
      "source": "",
      "metadata": {},
      "execution_count": null,
      "outputs": []
    }
  ]
}