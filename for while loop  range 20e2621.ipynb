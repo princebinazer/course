{
  "metadata": {
    "language_info": {
      "codemirror_mode": {
        "name": "python",
        "version": 3
      },
      "file_extension": ".py",
      "mimetype": "text/x-python",
      "name": "python",
      "nbconvert_exporter": "python",
      "pygments_lexer": "ipython3",
      "version": "3.8"
    },
    "kernelspec": {
      "name": "python",
      "display_name": "Python (Pyodide)",
      "language": "python"
    }
  },
  "nbformat_minor": 4,
  "nbformat": 4,
  "cells": [
    {
      "cell_type": "code",
      "source": "for i in range(1,6):\n    print(i*1)",
      "metadata": {
        "trusted": true
      },
      "execution_count": 1,
      "outputs": [
        {
          "name": "stdout",
          "text": "1\n2\n3\n4\n5\n",
          "output_type": "stream"
        }
      ]
    },
    {
      "cell_type": "code",
      "source": "for q in range(10):\n    print(q)",
      "metadata": {
        "trusted": true
      },
      "execution_count": 3,
      "outputs": [
        {
          "name": "stdout",
          "text": "0\n1\n2\n3\n4\n5\n6\n7\n8\n9\n",
          "output_type": "stream"
        }
      ]
    },
    {
      "cell_type": "code",
      "source": "i=0\nwhile i<5:\n    print(i)\n    i=i+1",
      "metadata": {
        "trusted": true
      },
      "execution_count": 2,
      "outputs": [
        {
          "name": "stdout",
          "text": "0\n1\n2\n3\n4\n",
          "output_type": "stream"
        }
      ]
    },
    {
      "cell_type": "code",
      "source": "food=['dosa','pongal','BIRIYANI']\nanime=['naruto','mHA','bluelock']\nfa=food+anime\nprint(fa)",
      "metadata": {
        "trusted": true
      },
      "execution_count": 5,
      "outputs": [
        {
          "name": "stdout",
          "text": "['dosa', 'pongal', 'BIRIYANI', 'naruto', 'mHA', 'bluelock']\n",
          "output_type": "stream"
        }
      ]
    },
    {
      "cell_type": "code",
      "source": "\nfor i in fa:\n    print(i,len(i))",
      "metadata": {
        "trusted": true
      },
      "execution_count": 6,
      "outputs": [
        {
          "name": "stdout",
          "text": "dosa 4\npongal 6\nBIRIYANI 8\nnaruto 6\nmHA 3\nbluelock 8\n",
          "output_type": "stream"
        }
      ]
    },
    {
      "cell_type": "code",
      "source": "\nfor i in range(len(fa)):\n     print(i*i)",
      "metadata": {
        "trusted": true
      },
      "execution_count": 7,
      "outputs": [
        {
          "name": "stdout",
          "text": "0\n1\n4\n9\n16\n25\n",
          "output_type": "stream"
        }
      ]
    },
    {
      "cell_type": "code",
      "source": "i=0\nwhile i<len(fa):\n    print(fa[i])\n    i=i+1",
      "metadata": {
        "trusted": true
      },
      "execution_count": 8,
      "outputs": [
        {
          "name": "stdout",
          "text": "dosa\npongal\nBIRIYANI\nnaruto\nmHA\nbluelock\n",
          "output_type": "stream"
        }
      ]
    },
    {
      "cell_type": "code",
      "source": "fa.append(\"DOSA\")\nprint(fa)",
      "metadata": {
        "trusted": true
      },
      "execution_count": 9,
      "outputs": [
        {
          "name": "stdout",
          "text": "['dosa', 'pongal', 'BIRIYANI', 'naruto', 'mHA', 'bluelock', 'DOSA']\n",
          "output_type": "stream"
        }
      ]
    },
    {
      "cell_type": "code",
      "source": "\nfa.insert(3,\"POORI\")\nprint(fa)",
      "metadata": {
        "trusted": true
      },
      "execution_count": 10,
      "outputs": [
        {
          "name": "stdout",
          "text": "['dosa', 'pongal', 'BIRIYANI', 'POORI', 'naruto', 'mHA', 'bluelock', 'DOSA']\n",
          "output_type": "stream"
        }
      ]
    },
    {
      "cell_type": "code",
      "source": "fa.sort()\nprint(fa)",
      "metadata": {
        "trusted": true
      },
      "execution_count": 11,
      "outputs": [
        {
          "name": "stdout",
          "text": "['BIRIYANI', 'DOSA', 'POORI', 'bluelock', 'dosa', 'mHA', 'naruto', 'pongal']\n",
          "output_type": "stream"
        }
      ]
    },
    {
      "cell_type": "code",
      "source": "fa.reverse()\nprint(fa)",
      "metadata": {
        "trusted": true
      },
      "execution_count": 12,
      "outputs": [
        {
          "name": "stdout",
          "text": "['pongal', 'naruto', 'mHA', 'dosa', 'bluelock', 'POORI', 'DOSA', 'BIRIYANI']\n",
          "output_type": "stream"
        }
      ]
    },
    {
      "cell_type": "code",
      "source": "\nfa.remove('naruto')\nprint(fa)",
      "metadata": {
        "trusted": true
      },
      "execution_count": 13,
      "outputs": [
        {
          "name": "stdout",
          "text": "['pongal', 'mHA', 'dosa', 'bluelock', 'POORI', 'DOSA', 'BIRIYANI']\n",
          "output_type": "stream"
        }
      ]
    },
    {
      "cell_type": "code",
      "source": "fa.pop()\nprint(fa)",
      "metadata": {
        "trusted": true
      },
      "execution_count": 14,
      "outputs": [
        {
          "name": "stdout",
          "text": "['pongal', 'mHA', 'dosa', 'bluelock', 'POORI', 'DOSA']\n",
          "output_type": "stream"
        }
      ]
    },
    {
      "cell_type": "code",
      "source": "fa.pop(1)\nprint(fa)\n",
      "metadata": {
        "trusted": true
      },
      "execution_count": 15,
      "outputs": [
        {
          "name": "stdout",
          "text": "['pongal', 'dosa', 'bluelock', 'POORI', 'DOSA']\n",
          "output_type": "stream"
        }
      ]
    },
    {
      "cell_type": "code",
      "source": "food.extend(anime)\nprint(food)\nprint(anime)",
      "metadata": {
        "trusted": true
      },
      "execution_count": 16,
      "outputs": [
        {
          "name": "stdout",
          "text": "['dosa', 'pongal', 'BIRIYANI', 'naruto', 'mHA', 'bluelock']\n['naruto', 'mHA', 'bluelock']\n",
          "output_type": "stream"
        }
      ]
    },
    {
      "cell_type": "code",
      "source": "",
      "metadata": {},
      "execution_count": null,
      "outputs": []
    }
  ]
}